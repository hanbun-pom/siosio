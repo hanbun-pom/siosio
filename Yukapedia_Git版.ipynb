{
  "nbformat": 4,
  "nbformat_minor": 0,
  "metadata": {
    "colab": {
      "name": "Yukapedia Git版",
      "provenance": [],
      "collapsed_sections": [],
      "include_colab_link": true
    },
    "kernelspec": {
      "name": "python3",
      "display_name": "Python 3"
    }
  },
  "cells": [
    {
      "cell_type": "markdown",
      "metadata": {
        "id": "view-in-github",
        "colab_type": "text"
      },
      "source": [
        "<a href=\"https://colab.research.google.com/github/hanbun-pom/siosio/blob/master/Yukapedia_Git%E7%89%88.ipynb\" target=\"_parent\"><img src=\"https://colab.research.google.com/assets/colab-badge.svg\" alt=\"Open In Colab\"/></a>"
      ]
    },
    {
      "cell_type": "markdown",
      "metadata": {
        "id": "3vbZ_UMfuMEg",
        "colab_type": "text"
      },
      "source": [
        "## GitHub参照版\n",
        "\n",
        "不特定多数への公開は今の所ご遠慮下さい  \n",
        "当ページ外で行われた操作についての責任は負いかねます\n",
        "\n",
        ">～使い方～  \n",
        ">①左上　PlayBackgroundを選択  \n",
        ">②左端の▶を押して実行\n",
        "\n",
        "2020/03/19 追加　完全一致検索  正規表現検索　動画URL生成  \n",
        "2020/04/06 試作　GitHub版  "
      ]
    },
    {
      "cell_type": "code",
      "metadata": {
        "id": "c7eVMZj5wkD_",
        "colab_type": "code",
        "outputId": "905a9666-aa6f-466e-874a-7e6012207de8",
        "colab": {
          "base_uri": "https://localhost:8080/",
          "height": 202
        }
      },
      "source": [
        "# ← の ▶ を押して実行してください\n",
        "\n",
        "import pandas as pd\n",
        "\n",
        "# 配信一覧 videos 取得\n",
        "master = 'https://raw.githubusercontent.com/hanbun-pom/siosio/master/'\n",
        "youtube = 'https://youtu.be/'\n",
        "videos = pd.read_csv(master + 'videos.csv')\n",
        "\n",
        "# コメント一覧　作成\n",
        "df_list=[]\n",
        "for Id in videos['videoId']:\n",
        "    tmp_df = pd.read_table(master + Id + '.tsv', header=None, names=['time','name','comment','URL'],quotechar='\"', quoting=3)\n",
        "    df_list.append(tmp_df)\n",
        "df = pd.concat(df_list, ignore_index=True)\n",
        "\n",
        "time.max()"
      ],
      "execution_count": 23,
      "outputs": [
        {
          "output_type": "error",
          "ename": "NameError",
          "evalue": "ignored",
          "traceback": [
            "\u001b[0;31m---------------------------------------------------------------------------\u001b[0m",
            "\u001b[0;31mNameError\u001b[0m                                 Traceback (most recent call last)",
            "\u001b[0;32m<ipython-input-23-59a004816266>\u001b[0m in \u001b[0;36m<module>\u001b[0;34m()\u001b[0m\n\u001b[1;32m     14\u001b[0m \u001b[0mdf\u001b[0m \u001b[0;34m=\u001b[0m \u001b[0mpd\u001b[0m\u001b[0;34m.\u001b[0m\u001b[0mconcat\u001b[0m\u001b[0;34m(\u001b[0m\u001b[0mdf_list\u001b[0m\u001b[0;34m,\u001b[0m \u001b[0mignore_index\u001b[0m\u001b[0;34m=\u001b[0m\u001b[0;32mTrue\u001b[0m\u001b[0;34m)\u001b[0m\u001b[0;34m\u001b[0m\u001b[0;34m\u001b[0m\u001b[0m\n\u001b[1;32m     15\u001b[0m \u001b[0;34m\u001b[0m\u001b[0m\n\u001b[0;32m---> 16\u001b[0;31m \u001b[0mtime\u001b[0m\u001b[0;34m.\u001b[0m\u001b[0mmax\u001b[0m\u001b[0;34m(\u001b[0m\u001b[0;34m)\u001b[0m\u001b[0;34m\u001b[0m\u001b[0;34m\u001b[0m\u001b[0m\n\u001b[0m",
            "\u001b[0;31mNameError\u001b[0m: name 'time' is not defined"
          ]
        }
      ]
    },
    {
      "cell_type": "code",
      "metadata": {
        "id": "NBOtIxd8bs8H",
        "colab_type": "code",
        "colab": {
          "base_uri": "https://localhost:8080/",
          "height": 311
        },
        "outputId": "0c5dc11f-7bf7-4983-eadd-95cfca5299e3"
      },
      "source": [
        ""
      ],
      "execution_count": 30,
      "outputs": [
        {
          "output_type": "error",
          "ename": "ValueError",
          "evalue": "ignored",
          "traceback": [
            "\u001b[0;31m---------------------------------------------------------------------------\u001b[0m",
            "\u001b[0;31mValueError\u001b[0m                                Traceback (most recent call last)",
            "\u001b[0;32m<ipython-input-30-c4c7e0c4288c>\u001b[0m in \u001b[0;36m<module>\u001b[0;34m()\u001b[0m\n\u001b[0;32m----> 1\u001b[0;31m \u001b[0mdf\u001b[0m\u001b[0;34m[\u001b[0m\u001b[0;34m'time'\u001b[0m\u001b[0;34m]\u001b[0m\u001b[0;34m.\u001b[0m\u001b[0mmax\u001b[0m\u001b[0;34m(\u001b[0m\u001b[0;34m-\u001b[0m\u001b[0;36m1\u001b[0m\u001b[0;34m)\u001b[0m\u001b[0;34m\u001b[0m\u001b[0;34m\u001b[0m\u001b[0m\n\u001b[0m",
            "\u001b[0;32m/usr/local/lib/python3.6/dist-packages/pandas/core/generic.py\u001b[0m in \u001b[0;36mstat_func\u001b[0;34m(self, axis, skipna, level, numeric_only, **kwargs)\u001b[0m\n\u001b[1;32m  11213\u001b[0m             \u001b[0;32mreturn\u001b[0m \u001b[0mself\u001b[0m\u001b[0;34m.\u001b[0m\u001b[0m_agg_by_level\u001b[0m\u001b[0;34m(\u001b[0m\u001b[0mname\u001b[0m\u001b[0;34m,\u001b[0m \u001b[0maxis\u001b[0m\u001b[0;34m=\u001b[0m\u001b[0maxis\u001b[0m\u001b[0;34m,\u001b[0m \u001b[0mlevel\u001b[0m\u001b[0;34m=\u001b[0m\u001b[0mlevel\u001b[0m\u001b[0;34m,\u001b[0m \u001b[0mskipna\u001b[0m\u001b[0;34m=\u001b[0m\u001b[0mskipna\u001b[0m\u001b[0;34m)\u001b[0m\u001b[0;34m\u001b[0m\u001b[0;34m\u001b[0m\u001b[0m\n\u001b[1;32m  11214\u001b[0m         return self._reduce(\n\u001b[0;32m> 11215\u001b[0;31m             \u001b[0mf\u001b[0m\u001b[0;34m,\u001b[0m \u001b[0mname\u001b[0m\u001b[0;34m,\u001b[0m \u001b[0maxis\u001b[0m\u001b[0;34m=\u001b[0m\u001b[0maxis\u001b[0m\u001b[0;34m,\u001b[0m \u001b[0mskipna\u001b[0m\u001b[0;34m=\u001b[0m\u001b[0mskipna\u001b[0m\u001b[0;34m,\u001b[0m \u001b[0mnumeric_only\u001b[0m\u001b[0;34m=\u001b[0m\u001b[0mnumeric_only\u001b[0m\u001b[0;34m\u001b[0m\u001b[0;34m\u001b[0m\u001b[0m\n\u001b[0m\u001b[1;32m  11216\u001b[0m         )\n\u001b[1;32m  11217\u001b[0m \u001b[0;34m\u001b[0m\u001b[0m\n",
            "\u001b[0;32m/usr/local/lib/python3.6/dist-packages/pandas/core/series.py\u001b[0m in \u001b[0;36m_reduce\u001b[0;34m(self, op, name, axis, skipna, numeric_only, filter_type, **kwds)\u001b[0m\n\u001b[1;32m   3867\u001b[0m \u001b[0;34m\u001b[0m\u001b[0m\n\u001b[1;32m   3868\u001b[0m         \u001b[0;32mif\u001b[0m \u001b[0maxis\u001b[0m \u001b[0;32mis\u001b[0m \u001b[0;32mnot\u001b[0m \u001b[0;32mNone\u001b[0m\u001b[0;34m:\u001b[0m\u001b[0;34m\u001b[0m\u001b[0;34m\u001b[0m\u001b[0m\n\u001b[0;32m-> 3869\u001b[0;31m             \u001b[0mself\u001b[0m\u001b[0;34m.\u001b[0m\u001b[0m_get_axis_number\u001b[0m\u001b[0;34m(\u001b[0m\u001b[0maxis\u001b[0m\u001b[0;34m)\u001b[0m\u001b[0;34m\u001b[0m\u001b[0;34m\u001b[0m\u001b[0m\n\u001b[0m\u001b[1;32m   3870\u001b[0m \u001b[0;34m\u001b[0m\u001b[0m\n\u001b[1;32m   3871\u001b[0m         \u001b[0;32mif\u001b[0m \u001b[0misinstance\u001b[0m\u001b[0;34m(\u001b[0m\u001b[0mdelegate\u001b[0m\u001b[0;34m,\u001b[0m \u001b[0mCategorical\u001b[0m\u001b[0;34m)\u001b[0m\u001b[0;34m:\u001b[0m\u001b[0;34m\u001b[0m\u001b[0;34m\u001b[0m\u001b[0m\n",
            "\u001b[0;32m/usr/local/lib/python3.6/dist-packages/pandas/core/generic.py\u001b[0m in \u001b[0;36m_get_axis_number\u001b[0;34m(cls, axis)\u001b[0m\n\u001b[1;32m    405\u001b[0m             \u001b[0;32mexcept\u001b[0m \u001b[0mKeyError\u001b[0m\u001b[0;34m:\u001b[0m\u001b[0;34m\u001b[0m\u001b[0;34m\u001b[0m\u001b[0m\n\u001b[1;32m    406\u001b[0m                 \u001b[0;32mpass\u001b[0m\u001b[0;34m\u001b[0m\u001b[0;34m\u001b[0m\u001b[0m\n\u001b[0;32m--> 407\u001b[0;31m         \u001b[0;32mraise\u001b[0m \u001b[0mValueError\u001b[0m\u001b[0;34m(\u001b[0m\u001b[0;34mf\"No axis named {axis} for object type {cls}\"\u001b[0m\u001b[0;34m)\u001b[0m\u001b[0;34m\u001b[0m\u001b[0;34m\u001b[0m\u001b[0m\n\u001b[0m\u001b[1;32m    408\u001b[0m \u001b[0;34m\u001b[0m\u001b[0m\n\u001b[1;32m    409\u001b[0m     \u001b[0;34m@\u001b[0m\u001b[0mclassmethod\u001b[0m\u001b[0;34m\u001b[0m\u001b[0;34m\u001b[0m\u001b[0m\n",
            "\u001b[0;31mValueError\u001b[0m: No axis named -1 for object type <class 'pandas.core.series.Series'>"
          ]
        }
      ]
    },
    {
      "cell_type": "code",
      "metadata": {
        "id": "umNZJnofCCvw",
        "colab_type": "code",
        "colab": {
          "base_uri": "https://localhost:8080/",
          "height": 34
        },
        "outputId": "cbc74806-9278-4fe0-9e06-16525d0742d8"
      },
      "source": [
        "trans = str.maketrans({':': '',',': ''})\n",
        "s = df['time'].str.translate(trans).astype(int)\n",
        "s = s-40*(abs(s)//100)-2400*(abs(s)//10000)-30\n",
        "s = ((abs(s)+s)//2).astype(str)\n",
        "\n",
        "#df['URL']= youtube + ID + '?t=' + s + 's'\n",
        "\n"
      ],
      "execution_count": 34,
      "outputs": [
        {
          "output_type": "execute_result",
          "data": {
            "text/plain": [
              "'9999'"
            ]
          },
          "metadata": {
            "tags": []
          },
          "execution_count": 34
        }
      ]
    },
    {
      "cell_type": "code",
      "metadata": {
        "id": "-FiCtFbjpJ5n",
        "colab_type": "code",
        "outputId": "29f031bd-192f-4f96-f21b-d911dafd6a7c",
        "colab": {
          "base_uri": "https://localhost:8080/",
          "height": 97
        }
      },
      "source": [
        "import pandas as pd\n",
        "import matplotlib.pyplot as plt\n",
        "import glob\n",
        "import os\n",
        "\n",
        "# %%timeit\n",
        "# GoogleDriveのファイルを参照する\n",
        "from google.colab import drive \n",
        "drive.mount('/content/drive')\n",
        "\n",
        "# 全コメントデータを読み込む　（少し時間がかかります)\n",
        "# 特定の文字が入っているコメントはバグるのでquotecharで指定して無視\n",
        "DATA_DIR='/content/drive/My Drive/Colab Notebooks/data/'\n",
        "\n",
        "# DATA_DIR='data'\n",
        "\n",
        "files = glob.glob(os.path.join(DATA_DIR,'*.tsv'))\n",
        "df_list=[]\n",
        "for file in files:\n",
        "    tmp_df = pd.read_table(file, header=None, names=['time','name','comment','spchat'],quotechar='\"', quoting=3)\n",
        "    tmp_df['URL'] = os.path.basename(file)\n",
        "    df_list.append(tmp_df)\n",
        "df = pd.concat(df_list, ignore_index=True)\n",
        "\n",
        "#「名前」「コメント」に特定のキーワードを含むコメントを抽出\n",
        "\n",
        "名前 = \" \"  #@param {type:\"string\"}\n",
        "名前完全一致 = False  #@param {type:\"boolean\"} \n",
        "名前正規表現 = False  #@param {type:\"boolean\"} \n",
        "コメント = \"\\u8A6B\\u3073\\u6848\\u4EF6\"  #@param {type:\"string\"}\n",
        "コメント完全一致 = False  #@param {type:\"boolean\"}\n",
        "コメント正規表現 = False  #@param {type:\"boolean\"} \n",
        "\n",
        "再生開始時間 =  -30#@param {type:\"integer\"}\n",
        "\n",
        "def query_condition(data, col, query, is_perfect, is_regex):\n",
        "    if is_perfect:\n",
        "        return data[col].str.match(query) if is_regex else data[col] == query\n",
        "    else:\n",
        "        return data[col].str.contains(query, na=False, regex=is_regex)\n",
        "\n",
        "name_condition = query_condition(df, \"name\", 名前, 名前完全一致, 名前正規表現)\n",
        "comment_condition = query_condition(df, \"comment\", コメント, コメント完全一致, コメント正規表現)\n",
        "\n",
        "    \n",
        "df2 = df[name_condition & comment_condition].copy()\n",
        "\n",
        "# time, file(videoID) → 再生時間指定URL\n",
        "# start, end指定URLで、動画の一部だけ切り抜くのもいいかも\n",
        "s = df2['time'].str.replace(':', '').astype(int)\n",
        "s = s-40*(abs(s)//100)-2400*(abs(s)//10000)+再生開始時間\n",
        "s = ((abs(s)+s)//2).astype(str)\n",
        "\n",
        "df2['URL']='https://youtu.be/'+df2['URL'].str.replace('.tsv','?t=')+s+'s'\n",
        "pd.set_option('display.max_rows', 10000)\n",
        "\n",
        "df2"
      ],
      "execution_count": 45,
      "outputs": [
        {
          "output_type": "stream",
          "text": [
            "Drive already mounted at /content/drive; to attempt to forcibly remount, call drive.mount(\"/content/drive\", force_remount=True).\n"
          ],
          "name": "stdout"
        },
        {
          "output_type": "execute_result",
          "data": {
            "text/html": [
              "<div>\n",
              "<style scoped>\n",
              "    .dataframe tbody tr th:only-of-type {\n",
              "        vertical-align: middle;\n",
              "    }\n",
              "\n",
              "    .dataframe tbody tr th {\n",
              "        vertical-align: top;\n",
              "    }\n",
              "\n",
              "    .dataframe thead th {\n",
              "        text-align: right;\n",
              "    }\n",
              "</style>\n",
              "<table border=\"1\" class=\"dataframe\">\n",
              "  <thead>\n",
              "    <tr style=\"text-align: right;\">\n",
              "      <th></th>\n",
              "      <th>time</th>\n",
              "      <th>name</th>\n",
              "      <th>comment</th>\n",
              "      <th>spchat</th>\n",
              "      <th>URL</th>\n",
              "    </tr>\n",
              "  </thead>\n",
              "  <tbody>\n",
              "    <tr>\n",
              "      <th>517269</th>\n",
              "      <td>8:00:19</td>\n",
              "      <td>leno nowhere</td>\n",
              "      <td>これは詫び案件</td>\n",
              "      <td>NaN</td>\n",
              "      <td>https://youtu.be/imD90glgPdo?t=28789s</td>\n",
              "    </tr>\n",
              "  </tbody>\n",
              "</table>\n",
              "</div>"
            ],
            "text/plain": [
              "           time          name  ... spchat                                    URL\n",
              "517269  8:00:19  leno nowhere  ...    NaN  https://youtu.be/imD90glgPdo?t=28789s\n",
              "\n",
              "[1 rows x 5 columns]"
            ]
          },
          "metadata": {
            "tags": []
          },
          "execution_count": 45
        }
      ]
    },
    {
      "cell_type": "code",
      "metadata": {
        "id": "HbgzholAdo2M",
        "colab_type": "code",
        "colab": {
          "base_uri": "https://localhost:8080/",
          "height": 221
        },
        "outputId": "dfd21926-311b-45df-fb29-aed6e4c6e950"
      },
      "source": [
        "s"
      ],
      "execution_count": 38,
      "outputs": [
        {
          "output_type": "execute_result",
          "data": {
            "text/plain": [
              "1            0\n",
              "5            0\n",
              "8            0\n",
              "9            0\n",
              "19           0\n",
              "          ... \n",
              "901918    3441\n",
              "901925    3443\n",
              "901926    3443\n",
              "901927    3443\n",
              "901932    3445\n",
              "Name: time, Length: 101580, dtype: object"
            ]
          },
          "metadata": {
            "tags": []
          },
          "execution_count": 38
        }
      ]
    }
  ]
}